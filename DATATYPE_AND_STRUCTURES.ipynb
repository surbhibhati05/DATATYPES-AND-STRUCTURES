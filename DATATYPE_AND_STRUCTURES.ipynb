{
  "nbformat": 4,
  "nbformat_minor": 0,
  "metadata": {
    "colab": {
      "provenance": []
    },
    "kernelspec": {
      "name": "python3",
      "display_name": "Python 3"
    },
    "language_info": {
      "name": "python"
    }
  },
  "cells": [
    {
      "cell_type": "code",
      "execution_count": null,
      "metadata": {
        "id": "cD8-IEsiotMj"
      },
      "outputs": [],
      "source": []
    },
    {
      "cell_type": "markdown",
      "source": [
        "# DATA TYPES AND STRUCTURES\n"
      ],
      "metadata": {
        "id": "wBfsglDnoujR"
      }
    },
    {
      "cell_type": "markdown",
      "source": [
        " 1. What are data structures, and why are they important?\n",
        "   - Data structures are ways to organize and store data in a computer so that we can use it easily and efficiently. You can think of them like different types of containers that hold your data in a specific way. Some are like boxes, some like lists, some like ladders, and some like maps.\n",
        "   THEY ARE IMPORTANT BECAUSE:\n",
        "   - Choosing the right data structure significantly impacts the efficiency and performance of one's program.\n",
        "   - Well-chosen data structures Simplify data manipulation (adding, removing, modifying elements) Optimize searching and sorting operations and Conserve memory usage.\n",
        "\n",
        " 2.  Explain the difference between mutable and immutable data types with examples.\n",
        "  - Mutable means we can change it after it's made. So if you make a list or something like that, you can add, remove, or update things in it later.examples: list,sets,dictonaries.\n",
        "  - Immutable means we can't change it once it's made. If you try to change it, Python will make a new copy instead. examples: tuples,string,integers.\n",
        "\n",
        " 3.  What are the main differences between lists and tuples in Python?\n",
        "   - A list is a collection of items that can be changed which means they are mutable.\n",
        "   - A tuple is also a collection of items, but it cannot be changed which means they are immutable.\n",
        "\n",
        " 4.  Describe how dictionaries store data.\n",
        "  - Dictionaries are fastest data structure which stores the data in the form of key and value pair.\n",
        "\n",
        " 5.  Why might you use a set instead of a list in Python?\n",
        "  - In Python, I would use a set instead of a list when I want to store data without any duplicate values. Sets automatically remove repeated items, which is useful when I only need unique elements.\n",
        "  - Also, sets are faster than lists when it comes to checking whether a value is present or not. This makes sets better when I need to do quick searches.\n",
        "  - Another difference is that sets do not keep the order of elements, while lists do. So if I don't care about the order and just want to store unique data, a set is the better choice.\n",
        "\n",
        " 6.  What is a string in Python, and how is it different from a list?\n",
        "   - The main difference is that a string is used for text, and it cannot be changed, while a list can store different types of data and we can change it.\n",
        "\n",
        " 7.  How do tuples ensure data integrity in Python?\n",
        "   - In Python, tuples help to protect data from being changed because they are immutable, which means once a tuple is created, we cannot add, remove, or change its elements.\n",
        "   - This is useful when we want to store fixed information that should not be changed by mistake. It helps in data integrity, meaning the data stays safe and accurate throughout the program.\n",
        "\n",
        " 8.  What is a hash table, and how does it relate to dictionaries in       Python?\n",
        "   - A hash table is a type of data structure that stores data in key-value pairs and uses a process called hashing to quickly find the location of a value based on its key.\n",
        "   - a dictionary is Python's version of a hash table, and it helps us store and get data quickly using unique keys.\n",
        "\n",
        " 9.  Can lists contain different data types in Python?\n",
        "   - yes, lists can contain different data types in Python.This means a single list can have numbers, strings, booleans, and even other lists or objects.\n",
        "\n",
        " 10.  Explain why strings are immutable in Python.\n",
        "   - strings are immutable in Python to make programs faster, safer, and more reliable.\n",
        "\n",
        " 11.  What advantages do dictionaries offer over lists for certain tasks?\n",
        "   - Dictionaries in Python offer some important advantages over lists, especially when we want to work with data using unique keys instead of just positions.\n",
        "   - Dictionaries are more useful than lists when we need to Label our data clearly, Access data quickly, Avoid confusion with indexes.\n",
        "\n",
        " 12.  Describe a scenario where using a tuple would be preferable over a  list.\n",
        "   - We should use a tuple instead of a list when we want to store data that should not be changed. Tuples are immutable, which means once they are created, their values cannot be modified, added, or removed.\n",
        "\n",
        " 13.  How do sets handle duplicate values in Python?\n",
        "   - In Python, sets do not allow duplicate values. If we try to add the same value more than once to a set, it will automatically remove the duplicates and only keep unique values.\n",
        "   - Sets in Python automatically handle duplicates by ignoring repeated values and storing only one copy of each item. This makes sets very useful when we want to work with unique data only.\n",
        "\n",
        " 14.  How does the “in” keyword work differently for lists and dictionaries?\n",
        "   - In Python, the \"in\" keyword is used to check if a value exists in a collection like a list or dictionary.For lists, \"in\" checks if a value is present.\n",
        "   - For dictionaries, \"in\" checks if a key is present.\n",
        "\n",
        " 15.  Can you modify the elements of a tuple? Explain why or why not.\n",
        "    - Tuples cannot be modified because they are immutable. This helps to keep the data safe and unchanged throughout the program.\n",
        "\n",
        " 16.  What is a nested dictionary, and give an example of its use case?\n",
        "   - A nested dictionary is a way to store complex and structured data in Python. It helps keep related information together and easy to manage.\n",
        "   - A nested dictionary is helpful when We want to store data for multiple records (like student details, employee profiles),We need to group related information for better organization.\n",
        "\n",
        " 17.  Describe the time complexity of accessing elements in a dictionary.\n",
        "   - In Python, accessing elements in a dictionary using a key is very fast. The time complexity for this operation is:\n",
        "   - O(1) — also called constant time\n",
        "   This means that no matter how many items are in the dictionary, it takes the same amount of time to find a value using its key.\n",
        "   - Dictionaries use a hash table inside, which allows Python to directly jump to the location of the value by hashing the key — instead of searching item by item.\n",
        "\n",
        " 18.  In what situations are lists preferred over dictionaries?\n",
        "   - Lists are preferred over dictionaries when we want to store a collection of items in a specific order and don't need to label them with keys.\n",
        "   - Lists are preferred when we need to store ordered, simple, and duplicate-friendly data, and when using index numbers is enough to work with the values.\n",
        "\n",
        " 19.  Why are dictionaries considered unordered, and how does that affect data retrieval?\n",
        "   - Dictionaries are considered unordered because they are designed for fast access using keys, not for maintaining the order of items. This means you must always retrieve values using keys, not positions.\n",
        "   - How It Affects Data Retrieval is that You can't access items by position like in a list (e.g., dict[0] doesn't work), You must use keys to get values, The speed is fast (O(1)), but not based on any order.\n",
        "\n",
        " 20.  Explain the difference between a list and a dictionary in terms of data retrieval.\n",
        "    - The main difference between a list and a dictionary in Python is how we retrieve data from them.\n",
        "    - A list stores items in a specific order, We access elements using index numbers (starting from 0), You need to remember the position of the item to get it.\n",
        "    - A dictionary stores key-value pairs, We access values using their keys, not positions, This makes it easier to find data when you know the key.\n",
        "    - List → data is retrieved by index, Dictionary → data is retrieved by key.\n",
        "\n",
        "\n",
        "\n",
        "\n"
      ],
      "metadata": {
        "id": "JPw9jm4Oo6b8"
      }
    },
    {
      "cell_type": "code",
      "source": [
        "#1.Write a code to create a string with your name and print it.\n",
        "my_name = \"Surbhi Bhati\"\n",
        "print(my_name)"
      ],
      "metadata": {
        "colab": {
          "base_uri": "https://localhost:8080/"
        },
        "id": "LOBDRMQ3WehC",
        "outputId": "8770177d-1dd8-4147-d33f-1fbe48a51acf"
      },
      "execution_count": 1,
      "outputs": [
        {
          "output_type": "stream",
          "name": "stdout",
          "text": [
            "Surbhi Bhati\n"
          ]
        }
      ]
    },
    {
      "cell_type": "code",
      "source": [
        "#2.Write a code to find the length of the string \"Hello World\".\n",
        "text = \"Hello World\"\n",
        "length = len(text)\n",
        "print(\"Length of the string is:\", length)"
      ],
      "metadata": {
        "colab": {
          "base_uri": "https://localhost:8080/"
        },
        "id": "iSveOtUcXI-n",
        "outputId": "3094ce4c-9a5b-4e85-e64d-80c40ce77f63"
      },
      "execution_count": 2,
      "outputs": [
        {
          "output_type": "stream",
          "name": "stdout",
          "text": [
            "Length of the string is: 11\n"
          ]
        }
      ]
    },
    {
      "cell_type": "code",
      "source": [
        "# 3.Write a code to slice the first 3 characters from the string \"Python programming\".\n",
        "text = \"Python Programming\"\n",
        "sliced_text = text[:3]\n",
        "print(\"First 3 characters are:\", sliced_text)"
      ],
      "metadata": {
        "colab": {
          "base_uri": "https://localhost:8080/"
        },
        "id": "_Vzgs4iQXlLd",
        "outputId": "0ac0fa01-99b4-4dfb-b6c5-4c90f4bebb0b"
      },
      "execution_count": 3,
      "outputs": [
        {
          "output_type": "stream",
          "name": "stdout",
          "text": [
            "First 3 characters are: Pyt\n"
          ]
        }
      ]
    },
    {
      "cell_type": "code",
      "source": [
        "#4.Write a code to convert the string \"hello\" to uppercase.\n",
        "text = \"hello\"\n",
        "uppercase_text = text.upper()\n",
        "print(\"Uppercase string is:\", uppercase_text)"
      ],
      "metadata": {
        "colab": {
          "base_uri": "https://localhost:8080/"
        },
        "id": "fSo6w-m2YUEr",
        "outputId": "2726fa20-2b83-454c-fbf8-ab81d5e586cf"
      },
      "execution_count": 4,
      "outputs": [
        {
          "output_type": "stream",
          "name": "stdout",
          "text": [
            "Uppercase string is: HELLO\n"
          ]
        }
      ]
    },
    {
      "cell_type": "code",
      "source": [
        "#5.Write a code to replace the word \"apple\" with \"orange\" in the string \"I like apple\".\n",
        "text = \"I like apple\"\n",
        "new_text = text.replace(\"apple\", \"orange\")\n",
        "print(\"Replaced string is:\", new_text)"
      ],
      "metadata": {
        "colab": {
          "base_uri": "https://localhost:8080/"
        },
        "id": "fdEoGHCyYizO",
        "outputId": "6e940361-1717-420e-ef80-9358cdae545d"
      },
      "execution_count": 5,
      "outputs": [
        {
          "output_type": "stream",
          "name": "stdout",
          "text": [
            "Replaced string is: I like orange\n"
          ]
        }
      ]
    },
    {
      "cell_type": "code",
      "source": [
        "#6.Write a code to create a list with numbers 1 to 5 and print it.\n",
        "numbers = [1, 2, 3, 4, 5]\n",
        "print(numbers)\n"
      ],
      "metadata": {
        "colab": {
          "base_uri": "https://localhost:8080/"
        },
        "id": "RT3X_MtqYvwc",
        "outputId": "544c008e-5f4f-4e89-f1af-dd4d0179245a"
      },
      "execution_count": 6,
      "outputs": [
        {
          "output_type": "stream",
          "name": "stdout",
          "text": [
            "[1, 2, 3, 4, 5]\n"
          ]
        }
      ]
    },
    {
      "cell_type": "code",
      "source": [
        "#7.Write a code to append the number 10 to the list [1, 2, 3, 4].\n",
        "numbers = [1, 2, 3, 4]\n",
        "numbers.append(10)\n",
        "print(numbers)"
      ],
      "metadata": {
        "colab": {
          "base_uri": "https://localhost:8080/"
        },
        "id": "4APFcSqpZKsb",
        "outputId": "d61bf521-3ae9-46f9-d45d-1ecbf544c72d"
      },
      "execution_count": 7,
      "outputs": [
        {
          "output_type": "stream",
          "name": "stdout",
          "text": [
            "[1, 2, 3, 4, 10]\n"
          ]
        }
      ]
    },
    {
      "cell_type": "code",
      "source": [
        "#8.Write a code to remove the number 3 from the list [1, 2, 3, 4, 5].\n",
        "numbers = [1, 2, 3, 4, 5]\n",
        "numbers.remove(3)\n",
        "print(numbers)\n"
      ],
      "metadata": {
        "colab": {
          "base_uri": "https://localhost:8080/"
        },
        "id": "M-jv-2FKZUqB",
        "outputId": "f92ec9f7-ad64-4378-875d-d6ec643dd141"
      },
      "execution_count": 8,
      "outputs": [
        {
          "output_type": "stream",
          "name": "stdout",
          "text": [
            "[1, 2, 4, 5]\n"
          ]
        }
      ]
    },
    {
      "cell_type": "code",
      "source": [
        "#9.Write a code to access the second element in the list ['a', 'b', 'c', 'd'].\n",
        "my_list = ['a', 'b', 'c', 'd']\n",
        "second_element = my_list[1]\n",
        "print(second_element)\n"
      ],
      "metadata": {
        "colab": {
          "base_uri": "https://localhost:8080/"
        },
        "id": "WFPA8qlXZj_Z",
        "outputId": "77c3cc10-d15e-4961-ad10-f95528d85271"
      },
      "execution_count": 9,
      "outputs": [
        {
          "output_type": "stream",
          "name": "stdout",
          "text": [
            "b\n"
          ]
        }
      ]
    },
    {
      "cell_type": "code",
      "source": [
        "#10.Write a code to reverse the list [10, 20, 30, 40, 50].\n",
        "my_list = [10, 20, 30, 40, 50]\n",
        "reversed_list = my_list[::-1]\n",
        "print(reversed_list)\n"
      ],
      "metadata": {
        "colab": {
          "base_uri": "https://localhost:8080/"
        },
        "id": "zi9NJXOqZ4Nl",
        "outputId": "e72b9d10-5fa2-4eb5-eca8-0fc2cd14e239"
      },
      "execution_count": 10,
      "outputs": [
        {
          "output_type": "stream",
          "name": "stdout",
          "text": [
            "[50, 40, 30, 20, 10]\n"
          ]
        }
      ]
    },
    {
      "cell_type": "code",
      "source": [
        "#11.Write a code to create a tuple with the elements 100, 200, 300 and print it.\n",
        "my_tuple = (100, 200, 300)\n",
        "print(my_tuple)\n"
      ],
      "metadata": {
        "colab": {
          "base_uri": "https://localhost:8080/"
        },
        "id": "_MVKfwu1aGFw",
        "outputId": "cf870099-8b9c-4edc-816e-e967dcbce642"
      },
      "execution_count": 11,
      "outputs": [
        {
          "output_type": "stream",
          "name": "stdout",
          "text": [
            "(100, 200, 300)\n"
          ]
        }
      ]
    },
    {
      "cell_type": "code",
      "source": [
        "#12.Write a code to access the second-to-last element of the tuple ('red', 'green', 'blue', 'yellow').\n",
        "my_tuple = ('red', 'green', 'blue', 'yellow')\n",
        "second_to_last_element = my_tuple[-2]\n",
        "print(second_to_last_element)"
      ],
      "metadata": {
        "colab": {
          "base_uri": "https://localhost:8080/"
        },
        "id": "EUOyYa8tah6X",
        "outputId": "a6312ce9-8590-49ec-fbf6-ca255e7c0332"
      },
      "execution_count": 12,
      "outputs": [
        {
          "output_type": "stream",
          "name": "stdout",
          "text": [
            "blue\n"
          ]
        }
      ]
    },
    {
      "cell_type": "code",
      "source": [
        "#13.Write a code to find the minimum number in the tuple (10, 20, 5, 15).\n",
        "my_tuple = (10, 20, 5, 15)\n",
        "minimum_number = min(my_tuple)\n",
        "print(minimum_number)"
      ],
      "metadata": {
        "colab": {
          "base_uri": "https://localhost:8080/"
        },
        "id": "6So5KVOiazCh",
        "outputId": "06088e3e-9f5e-4847-83ac-1b77ab0f7c01"
      },
      "execution_count": 13,
      "outputs": [
        {
          "output_type": "stream",
          "name": "stdout",
          "text": [
            "5\n"
          ]
        }
      ]
    },
    {
      "cell_type": "code",
      "source": [
        "#14.Write a code to find the index of the element \"cat\" in the tuple ('dog', 'cat', 'rabbit').\n",
        "my_tuple = ('dog', 'cat', 'rabbit')\n",
        "index_of_cat = my_tuple.index('cat')\n",
        "print(index_of_cat)\n"
      ],
      "metadata": {
        "colab": {
          "base_uri": "https://localhost:8080/"
        },
        "id": "Qsn6PYRka_-D",
        "outputId": "375d8062-d2fb-445e-a768-53d3a729670f"
      },
      "execution_count": 14,
      "outputs": [
        {
          "output_type": "stream",
          "name": "stdout",
          "text": [
            "1\n"
          ]
        }
      ]
    },
    {
      "cell_type": "code",
      "source": [
        "#15.Write a code to create a tuple containing three different fruits and check if \"kiwi\" is in it.\n",
        "fruits_tuple = (\"apple\", \"banana\", \"orange\")\n",
        "is_kiwi_in_tuple = \"kiwi\" in fruits_tuple\n",
        "print(is_kiwi_in_tuple)"
      ],
      "metadata": {
        "colab": {
          "base_uri": "https://localhost:8080/"
        },
        "id": "PnYeowYRbfRF",
        "outputId": "ec5964de-c829-4da8-b4ce-febc9078e973"
      },
      "execution_count": 15,
      "outputs": [
        {
          "output_type": "stream",
          "name": "stdout",
          "text": [
            "False\n"
          ]
        }
      ]
    },
    {
      "cell_type": "code",
      "source": [
        "#16.Write a code to create a set with the elements 'a', 'b', 'c' and print it.\n",
        "my_set = {'a', 'b', 'c'}\n",
        "print(my_set)\n"
      ],
      "metadata": {
        "colab": {
          "base_uri": "https://localhost:8080/"
        },
        "id": "chOd-n7-bvNZ",
        "outputId": "818477d7-a1a2-4fe9-9e0e-ee88eabc82ae"
      },
      "execution_count": 16,
      "outputs": [
        {
          "output_type": "stream",
          "name": "stdout",
          "text": [
            "{'c', 'b', 'a'}\n"
          ]
        }
      ]
    },
    {
      "cell_type": "code",
      "source": [
        "#17.Write a code to clear all elements from the set {1, 2, 3, 4, 5}.\n",
        "my_set = {1, 2, 3, 4, 5}\n",
        "my_set.clear()\n",
        "print(my_set)"
      ],
      "metadata": {
        "colab": {
          "base_uri": "https://localhost:8080/"
        },
        "id": "gUHgCtCWcBxf",
        "outputId": "c1cd7381-3b61-4668-ba3e-e7e681066fe4"
      },
      "execution_count": 17,
      "outputs": [
        {
          "output_type": "stream",
          "name": "stdout",
          "text": [
            "set()\n"
          ]
        }
      ]
    },
    {
      "cell_type": "code",
      "source": [
        "#18.Write a code to remove the element 4 from the set {1, 2, 3, 4}.\n",
        "my_set = {1, 2, 3, 4}\n",
        "my_set.remove(4)\n",
        "print(my_set)"
      ],
      "metadata": {
        "colab": {
          "base_uri": "https://localhost:8080/"
        },
        "id": "t8BMdyD4cQ1q",
        "outputId": "5f661d40-03b5-4ee8-8f1a-19a067ce3a8c"
      },
      "execution_count": 18,
      "outputs": [
        {
          "output_type": "stream",
          "name": "stdout",
          "text": [
            "{1, 2, 3}\n"
          ]
        }
      ]
    },
    {
      "cell_type": "code",
      "source": [
        "#19.Write a code to find the union of two sets {1, 2, 3} and {3, 4, 5}.\n",
        "set1 = {1, 2, 3}\n",
        "set2 = {3, 4, 5}\n",
        "union_set = set1.union(set2)\n",
        "print(union_set)\n"
      ],
      "metadata": {
        "colab": {
          "base_uri": "https://localhost:8080/"
        },
        "id": "8jFZEug3cdx0",
        "outputId": "3aee5b3c-96f5-428d-af79-46d63982f53e"
      },
      "execution_count": 19,
      "outputs": [
        {
          "output_type": "stream",
          "name": "stdout",
          "text": [
            "{1, 2, 3, 4, 5}\n"
          ]
        }
      ]
    },
    {
      "cell_type": "code",
      "source": [
        "#20.Write a code to find the intersection of two sets {1, 2, 3} and {2, 3, 4}.\n",
        "set1 = {1, 2, 3}\n",
        "set2 = {2, 3, 4}\n",
        "common_elements = set1.intersection(set2)\n",
        "print(\"Intersection of the sets is:\", common_elements)"
      ],
      "metadata": {
        "colab": {
          "base_uri": "https://localhost:8080/"
        },
        "id": "k2s8uWMGcro9",
        "outputId": "b372b974-aab3-46e1-a2af-888f7f503bec"
      },
      "execution_count": 20,
      "outputs": [
        {
          "output_type": "stream",
          "name": "stdout",
          "text": [
            "Intersection of the sets is: {2, 3}\n"
          ]
        }
      ]
    },
    {
      "cell_type": "code",
      "source": [
        "#21.Write a code to create a dictionary with the keys \"name\", \"age\", and \"city\", and print it.\n",
        "person = {\n",
        "    \"name\": \"Surbhi\",\n",
        "    \"age\": 27,\n",
        "    \"city\": \"Delhi\"\n",
        "}\n",
        "print(person)"
      ],
      "metadata": {
        "colab": {
          "base_uri": "https://localhost:8080/"
        },
        "id": "2qImFcYEdMJS",
        "outputId": "bc573f20-0379-4b98-a2d7-e137099c3020"
      },
      "execution_count": 21,
      "outputs": [
        {
          "output_type": "stream",
          "name": "stdout",
          "text": [
            "{'name': 'Surbhi', 'age': 27, 'city': 'Delhi'}\n"
          ]
        }
      ]
    },
    {
      "cell_type": "code",
      "source": [
        "#22.Write a code to add a new key-value pair \"country\": \"USA\" to the dictionary {'name': 'John', 'age': 25}.\n",
        "person = {'name': 'John', 'age': 25}\n",
        "person['country'] = 'USA'\n",
        "print(person)"
      ],
      "metadata": {
        "colab": {
          "base_uri": "https://localhost:8080/"
        },
        "id": "Co4_skuwdvNs",
        "outputId": "dd88afb2-413e-4ee3-f7e9-e42c21fa3fb2"
      },
      "execution_count": 22,
      "outputs": [
        {
          "output_type": "stream",
          "name": "stdout",
          "text": [
            "{'name': 'John', 'age': 25, 'country': 'USA'}\n"
          ]
        }
      ]
    },
    {
      "cell_type": "code",
      "source": [
        "#23.Write a code to access the value associated with the key \"name\" in the dictionary {'name': 'Alice', 'age': 30}.\n",
        "person = {'name': 'Alice', 'age': 30}\n",
        "name_value = person['name']\n",
        "print(name_value)"
      ],
      "metadata": {
        "colab": {
          "base_uri": "https://localhost:8080/"
        },
        "id": "cV3Elt5od_sI",
        "outputId": "666b5207-2085-412b-e401-e0c63f739825"
      },
      "execution_count": 23,
      "outputs": [
        {
          "output_type": "stream",
          "name": "stdout",
          "text": [
            "Alice\n"
          ]
        }
      ]
    },
    {
      "cell_type": "code",
      "source": [
        "#24.Write a code to remove the key \"age\" from the dictionary {'name': 'Bob', 'age': 22, 'city': 'New York'}.\n",
        "person = {'name': 'Bob', 'age': 22, 'city': 'New York'}\n",
        "del person['age']\n",
        "print(person)\n"
      ],
      "metadata": {
        "colab": {
          "base_uri": "https://localhost:8080/"
        },
        "id": "SKNkqP86eOso",
        "outputId": "4ba21fd1-9236-40cc-ae9a-8c013eeb7aae"
      },
      "execution_count": 24,
      "outputs": [
        {
          "output_type": "stream",
          "name": "stdout",
          "text": [
            "{'name': 'Bob', 'city': 'New York'}\n"
          ]
        }
      ]
    },
    {
      "cell_type": "code",
      "source": [
        "#25.Write a code to check if the key \"city\" exists in the dictionary {'name': 'Alice', 'city': 'Paris'}.\n",
        "person = {'name': 'Alice', 'city': 'Paris'}\n",
        "city_exists = 'city' in person\n",
        "print(city_exists)"
      ],
      "metadata": {
        "colab": {
          "base_uri": "https://localhost:8080/"
        },
        "id": "r11PYI6Xej20",
        "outputId": "0efba6e3-da27-4591-e5c0-50885303fb8f"
      },
      "execution_count": 25,
      "outputs": [
        {
          "output_type": "stream",
          "name": "stdout",
          "text": [
            "True\n"
          ]
        }
      ]
    },
    {
      "cell_type": "code",
      "source": [
        "#26.Write a code to create a list, a tuple, and a dictionary, and print them all.\n",
        "my_list = [1, 2, 3, 4, 5]\n",
        "my_tuple = (10, 20, 30, 40, 50)\n",
        "my_dict = {\n",
        "    \"name\": \"Surbhi\",\n",
        "    \"age\": 27,\n",
        "    \"city\": \"Delhi\"\n",
        "}\n",
        "print(\"List:\", my_list)\n",
        "print(\"Tuple:\", my_tuple)\n",
        "print(\"Dictionary:\", my_dict)"
      ],
      "metadata": {
        "id": "6xkKt8CjfU7G",
        "outputId": "811ffdf7-d028-492f-a1ea-bcb636ee98ba",
        "colab": {
          "base_uri": "https://localhost:8080/"
        }
      },
      "execution_count": 29,
      "outputs": [
        {
          "output_type": "stream",
          "name": "stdout",
          "text": [
            "List: [1, 2, 3, 4, 5]\n",
            "Tuple: (10, 20, 30, 40, 50)\n",
            "Dictionary: {'name': 'Surbhi', 'age': 27, 'city': 'Delhi'}\n"
          ]
        }
      ]
    },
    {
      "cell_type": "code",
      "source": [
        "#27.Write a code to create a list of 5 random numbers between 1 and 100, sort it in ascending order,and print the  result.\n",
        "import random\n",
        "random_numbers = random.sample(range(1, 101), 5)\n",
        "random_numbers.sort()\n",
        "print(\"Sorted random numbers:\", random_numbers)\n"
      ],
      "metadata": {
        "id": "KmZvG4nlf1-3",
        "outputId": "71483586-dfbd-4d5a-e06b-3c7ed0821b60",
        "colab": {
          "base_uri": "https://localhost:8080/"
        }
      },
      "execution_count": 32,
      "outputs": [
        {
          "output_type": "stream",
          "name": "stdout",
          "text": [
            "Sorted random numbers: [1, 27, 62, 66, 71]\n"
          ]
        }
      ]
    },
    {
      "cell_type": "code",
      "source": [
        "#28.Write a code to create a list with strings and print the element at the third index.\n",
        "my_list = [\"apple\", \"banana\", \"cherry\", \"date\", \"elderberry\"]\n",
        "third_element = my_list[2]\n",
        "print(\"Third element:\", third_element)"
      ],
      "metadata": {
        "id": "ZoW9i4FihDW1",
        "outputId": "92742453-f830-4b59-9932-1415f2416c4f",
        "colab": {
          "base_uri": "https://localhost:8080/"
        }
      },
      "execution_count": 33,
      "outputs": [
        {
          "output_type": "stream",
          "name": "stdout",
          "text": [
            "Third element: cherry\n"
          ]
        }
      ]
    },
    {
      "cell_type": "code",
      "source": [
        "#29.Write a code to combine two dictionaries into one and print the result.\n",
        "dict1 = {\"name\": \"Surbhi\", \"age\": 27}\n",
        "dict2 = {\"city\": \"Delhi\", \"country\": \"India\"}\n",
        "combined_dict = {**dict1, **dict2}\n",
        "print(\"Combined Dictionary:\", combined_dict)\n"
      ],
      "metadata": {
        "id": "DHed_ljxhRrT",
        "outputId": "be3e4583-6f7f-41a9-a960-b1d02ec17e33",
        "colab": {
          "base_uri": "https://localhost:8080/"
        }
      },
      "execution_count": 34,
      "outputs": [
        {
          "output_type": "stream",
          "name": "stdout",
          "text": [
            "Combined Dictionary: {'name': 'Surbhi', 'age': 27, 'city': 'Delhi', 'country': 'India'}\n"
          ]
        }
      ]
    },
    {
      "cell_type": "code",
      "source": [
        "#30.Write a code to convert a list of strings into a set.\n",
        "my_list = [\"apple\", \"banana\", \"apple\", \"orange\"]\n",
        "my_set = set(my_list)\n",
        "print(\"Set:\", my_set)"
      ],
      "metadata": {
        "id": "hkMXwPC7hvCH",
        "outputId": "53d348cf-c89a-4cd8-e558-57bc7a47883c",
        "colab": {
          "base_uri": "https://localhost:8080/"
        }
      },
      "execution_count": 35,
      "outputs": [
        {
          "output_type": "stream",
          "name": "stdout",
          "text": [
            "Set: {'banana', 'orange', 'apple'}\n"
          ]
        }
      ]
    }
  ]
}